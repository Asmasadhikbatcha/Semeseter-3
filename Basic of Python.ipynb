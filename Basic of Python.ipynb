{
 "cells": [
  {
   "cell_type": "markdown",
   "id": "c1916b12-a079-4fa3-aff5-da169ba468cc",
   "metadata": {},
   "source": [
    "# VARIABLES AND DATA TYPES"
   ]
  },
  {
   "cell_type": "code",
   "execution_count": null,
   "id": "e044db4d-eb96-471e-b84c-a24c1df7a438",
   "metadata": {},
   "outputs": [],
   "source": [
    "RULES TO CREATE A VARIABLE.\n",
    "1.Variable is case sensitive.\n",
    "2.Alphanumeric allowed, Numericalpha not allowed.\n",
    "3.special characters not allowed.Except '_'\n",
    "4.Space not allowed"
   ]
  },
  {
   "cell_type": "code",
   "execution_count": 4,
   "id": "c26ff5aa-12d2-4749-8395-2e191436c555",
   "metadata": {},
   "outputs": [],
   "source": [
    "name= 'haritha'"
   ]
  },
  {
   "cell_type": "code",
   "execution_count": 5,
   "id": "ddafdec0-6c55-4265-a5e7-7087a8eeab93",
   "metadata": {},
   "outputs": [
    {
     "data": {
      "text/plain": [
       "'haritha'"
      ]
     },
     "execution_count": 5,
     "metadata": {},
     "output_type": "execute_result"
    }
   ],
   "source": [
    "name"
   ]
  },
  {
   "cell_type": "code",
   "execution_count": 11,
   "id": "8006e10b-1e40-4ba0-be64-9bd7c80f68a7",
   "metadata": {},
   "outputs": [
    {
     "ename": "SyntaxError",
     "evalue": "invalid syntax (4087585607.py, line 1)",
     "output_type": "error",
     "traceback": [
      "\u001b[1;36m  Cell \u001b[1;32mIn[11], line 1\u001b[1;36m\u001b[0m\n\u001b[1;33m    123 product1='pen'\u001b[0m\n\u001b[1;37m        ^\u001b[0m\n\u001b[1;31mSyntaxError\u001b[0m\u001b[1;31m:\u001b[0m invalid syntax\n"
     ]
    }
   ],
   "source": [
    "123 product1='bag'"
   ]
  },
  {
   "cell_type": "code",
   "execution_count": 16,
   "id": "8ad41c16-4bd0-4b7e-bda1-c98fceea4aff",
   "metadata": {},
   "outputs": [],
   "source": [
    "product1='watch'"
   ]
  },
  {
   "cell_type": "code",
   "execution_count": 17,
   "id": "9de29ce5-0bee-404d-a48a-876238957ed8",
   "metadata": {},
   "outputs": [
    {
     "data": {
      "text/plain": [
       "'watch'"
      ]
     },
     "execution_count": 17,
     "metadata": {},
     "output_type": "execute_result"
    }
   ],
   "source": [
    "product1"
   ]
  },
  {
   "cell_type": "code",
   "execution_count": 18,
   "id": "49e031ed-604a-44d7-ae75-ab61b893cceb",
   "metadata": {},
   "outputs": [
    {
     "ename": "SyntaxError",
     "evalue": "starred assignment target must be in a list or tuple (1734485647.py, line 1)",
     "output_type": "error",
     "traceback": [
      "\u001b[1;36m  Cell \u001b[1;32mIn[18], line 1\u001b[1;36m\u001b[0m\n\u001b[1;33m    *student='asma'\u001b[0m\n\u001b[1;37m    ^\u001b[0m\n\u001b[1;31mSyntaxError\u001b[0m\u001b[1;31m:\u001b[0m starred assignment target must be in a list or tuple\n"
     ]
    }
   ],
   "source": [
    "*student='asma'"
   ]
  },
  {
   "cell_type": "code",
   "execution_count": 19,
   "id": "fcf9b0c0-4684-41bd-a73f-b6e38eb32471",
   "metadata": {},
   "outputs": [],
   "source": [
    "student='asma$%#'"
   ]
  },
  {
   "cell_type": "code",
   "execution_count": 20,
   "id": "76a29be2-2750-416a-bea7-495a1b99cda0",
   "metadata": {},
   "outputs": [
    {
     "data": {
      "text/plain": [
       "'asma$%#'"
      ]
     },
     "execution_count": 20,
     "metadata": {},
     "output_type": "execute_result"
    }
   ],
   "source": [
    "student"
   ]
  },
  {
   "cell_type": "code",
   "execution_count": 21,
   "id": "d6b75bc3-ad77-467e-90d4-30e1d67fd6d5",
   "metadata": {},
   "outputs": [],
   "source": [
    "clg_name='Pmist'"
   ]
  },
  {
   "cell_type": "code",
   "execution_count": 22,
   "id": "ea939618-373a-43af-87c5-3cbaf7629976",
   "metadata": {},
   "outputs": [
    {
     "data": {
      "text/plain": [
       "'Pmist'"
      ]
     },
     "execution_count": 22,
     "metadata": {},
     "output_type": "execute_result"
    }
   ],
   "source": [
    "clg_name"
   ]
  },
  {
   "cell_type": "code",
   "execution_count": 23,
   "id": "b499bda1-b7dd-44e2-af24-c981836f3521",
   "metadata": {},
   "outputs": [
    {
     "data": {
      "text/plain": [
       "'asma$%#'"
      ]
     },
     "execution_count": 23,
     "metadata": {},
     "output_type": "execute_result"
    }
   ],
   "source": [
    "student"
   ]
  },
  {
   "cell_type": "code",
   "execution_count": 24,
   "id": "c2e72e33-dd93-468b-9d5a-5a1fc7ca7e42",
   "metadata": {},
   "outputs": [
    {
     "data": {
      "text/plain": [
       "'123 haritha'"
      ]
     },
     "execution_count": 24,
     "metadata": {},
     "output_type": "execute_result"
    }
   ],
   "source": [
    "name"
   ]
  },
  {
   "cell_type": "code",
   "execution_count": 25,
   "id": "7e386bab-7ad2-49b1-9cf8-ff0746d0ed5e",
   "metadata": {},
   "outputs": [
    {
     "data": {
      "text/plain": [
       "'watch'"
      ]
     },
     "execution_count": 25,
     "metadata": {},
     "output_type": "execute_result"
    }
   ],
   "source": [
    "product1"
   ]
  },
  {
   "cell_type": "code",
   "execution_count": 26,
   "id": "036c2fef-e382-44f6-a085-3aa69b5804a0",
   "metadata": {},
   "outputs": [
    {
     "ename": "SyntaxError",
     "evalue": "invalid syntax (987558687.py, line 1)",
     "output_type": "error",
     "traceback": [
      "\u001b[1;36m  Cell \u001b[1;32mIn[26], line 1\u001b[1;36m\u001b[0m\n\u001b[1;33m    problem 1='one'\u001b[0m\n\u001b[1;37m            ^\u001b[0m\n\u001b[1;31mSyntaxError\u001b[0m\u001b[1;31m:\u001b[0m invalid syntax\n"
     ]
    }
   ],
   "source": [
    "problem 1='one'"
   ]
  },
  {
   "cell_type": "code",
   "execution_count": 32,
   "id": "21ec6aa5-6050-45b5-b1eb-b0428c107ddb",
   "metadata": {},
   "outputs": [],
   "source": [
    "problem1='onetwo'"
   ]
  },
  {
   "cell_type": "code",
   "execution_count": 33,
   "id": "cf7a1dec-eacc-464b-a2a7-8652b5a79f83",
   "metadata": {},
   "outputs": [
    {
     "data": {
      "text/plain": [
       "'onetwo'"
      ]
     },
     "execution_count": 33,
     "metadata": {},
     "output_type": "execute_result"
    }
   ],
   "source": [
    "problem1"
   ]
  },
  {
   "cell_type": "markdown",
   "id": "64db8cad-71b0-49b1-8915-28b464286359",
   "metadata": {},
   "source": [
    "# TYPES OF DATA"
   ]
  },
  {
   "cell_type": "code",
   "execution_count": null,
   "id": "8ae373f3-fef7-470f-893a-1f3a208a85a5",
   "metadata": {},
   "outputs": [],
   "source": [
    "numeric - Integer,Float,complex\n",
    "string - String\n",
    "sequence -List,Tuple,Range,Array\n",
    "Mapping - Dictionary\n",
    "set - Set,Frozen set \n",
    "Boolean - bool\n",
    "Binary - Byte Array,Memory view\n"
   ]
  },
  {
   "cell_type": "code",
   "execution_count": 37,
   "id": "a951b79d-c375-4690-8ac7-348b1c9adf4a",
   "metadata": {},
   "outputs": [],
   "source": [
    "a=20\n"
   ]
  },
  {
   "cell_type": "code",
   "execution_count": 38,
   "id": "ace50451-a867-4556-9a1a-e6cd72fefccb",
   "metadata": {},
   "outputs": [
    {
     "data": {
      "text/plain": [
       "int"
      ]
     },
     "execution_count": 38,
     "metadata": {},
     "output_type": "execute_result"
    }
   ],
   "source": [
    "type(a)"
   ]
  },
  {
   "cell_type": "code",
   "execution_count": 39,
   "id": "365a3a76-8cd4-4e40-940f-ab67f9688b6a",
   "metadata": {},
   "outputs": [],
   "source": [
    "b=20.1"
   ]
  },
  {
   "cell_type": "code",
   "execution_count": 40,
   "id": "8a04b6b4-7345-4b08-937c-ea9219634f23",
   "metadata": {},
   "outputs": [
    {
     "data": {
      "text/plain": [
       "float"
      ]
     },
     "execution_count": 40,
     "metadata": {},
     "output_type": "execute_result"
    }
   ],
   "source": [
    "type(a)\n",
    "type(b)"
   ]
  },
  {
   "cell_type": "code",
   "execution_count": 41,
   "id": "4d4a5fb8-1718-4280-bad9-cb5c0c11b478",
   "metadata": {},
   "outputs": [],
   "source": [
    "c=10+16j"
   ]
  },
  {
   "cell_type": "code",
   "execution_count": 42,
   "id": "e960d7a0-c6e4-44c7-a6f0-562dfea3d1a0",
   "metadata": {},
   "outputs": [
    {
     "data": {
      "text/plain": [
       "complex"
      ]
     },
     "execution_count": 42,
     "metadata": {},
     "output_type": "execute_result"
    }
   ],
   "source": [
    "type(c)"
   ]
  },
  {
   "cell_type": "code",
   "execution_count": 43,
   "id": "7c840346-8144-4de4-bf86-59cbb9ab7df2",
   "metadata": {},
   "outputs": [
    {
     "data": {
      "text/plain": [
       "float"
      ]
     },
     "execution_count": 43,
     "metadata": {},
     "output_type": "execute_result"
    }
   ],
   "source": [
    "type(b)"
   ]
  },
  {
   "cell_type": "code",
   "execution_count": 46,
   "id": "e4ab2bb2-15af-4023-8fb6-e8ab532072d8",
   "metadata": {},
   "outputs": [
    {
     "name": "stdout",
     "output_type": "stream",
     "text": [
      "<class 'float'>\n",
      "<class 'complex'>\n"
     ]
    }
   ],
   "source": [
    "print (type(b))\n",
    "print (type(c))"
   ]
  },
  {
   "cell_type": "code",
   "execution_count": 47,
   "id": "3f5c05c7-b0eb-4f6a-8f57-7ce1d67b8387",
   "metadata": {},
   "outputs": [],
   "source": [
    "Name='asma1647' "
   ]
  },
  {
   "cell_type": "code",
   "execution_count": 48,
   "id": "07265b51-812e-4b7a-92a4-41e596640725",
   "metadata": {},
   "outputs": [
    {
     "data": {
      "text/plain": [
       "str"
      ]
     },
     "execution_count": 48,
     "metadata": {},
     "output_type": "execute_result"
    }
   ],
   "source": [
    "type(Name)"
   ]
  },
  {
   "cell_type": "code",
   "execution_count": 30,
   "id": "adf0af27-f485-4304-80d1-355937138c6e",
   "metadata": {},
   "outputs": [],
   "source": [
    "Name=\"salma asma1647\""
   ]
  },
  {
   "cell_type": "code",
   "execution_count": 50,
   "id": "da70549f-b120-4df9-abf5-61e24578514f",
   "metadata": {},
   "outputs": [
    {
     "data": {
      "text/plain": [
       "str"
      ]
     },
     "execution_count": 50,
     "metadata": {},
     "output_type": "execute_result"
    }
   ],
   "source": [
    "type(Name)"
   ]
  },
  {
   "cell_type": "code",
   "execution_count": 51,
   "id": "7cc79ac4-25df-4107-97a6-73f10e290852",
   "metadata": {},
   "outputs": [
    {
     "ename": "SyntaxError",
     "evalue": "invalid syntax (880980217.py, line 1)",
     "output_type": "error",
     "traceback": [
      "\u001b[1;36m  Cell \u001b[1;32mIn[51], line 1\u001b[1;36m\u001b[0m\n\u001b[1;33m    class=\"this is 'PYTHON' class\"\u001b[0m\n\u001b[1;37m         ^\u001b[0m\n\u001b[1;31mSyntaxError\u001b[0m\u001b[1;31m:\u001b[0m invalid syntax\n"
     ]
    }
   ],
   "source": [
    "class=\"this is 'PYTHON' class\""
   ]
  },
  {
   "cell_type": "code",
   "execution_count": 52,
   "id": "c11a2005-f057-4abe-a569-2f20e68b902c",
   "metadata": {},
   "outputs": [
    {
     "data": {
      "text/plain": [
       "'123 haritha'"
      ]
     },
     "execution_count": 52,
     "metadata": {},
     "output_type": "execute_result"
    }
   ],
   "source": [
    "name"
   ]
  },
  {
   "cell_type": "code",
   "execution_count": 53,
   "id": "1ff8ce66-91ae-4f39-99cd-e7e978bf80c7",
   "metadata": {},
   "outputs": [],
   "source": [
    "CLass=\"this is 'PYTHON' class\""
   ]
  },
  {
   "cell_type": "code",
   "execution_count": 54,
   "id": "d459dac8-924d-4f66-b817-56938e5a3c7f",
   "metadata": {},
   "outputs": [
    {
     "data": {
      "text/plain": [
       "\"this is 'PYTHON' class\""
      ]
     },
     "execution_count": 54,
     "metadata": {},
     "output_type": "execute_result"
    }
   ],
   "source": [
    "CLass"
   ]
  },
  {
   "cell_type": "code",
   "execution_count": 55,
   "id": "244d2d58-e9f0-4a61-b1c7-5e925a9ae8aa",
   "metadata": {},
   "outputs": [
    {
     "name": "stdout",
     "output_type": "stream",
     "text": [
      "this is 'PYTHON' class\n"
     ]
    }
   ],
   "source": [
    "print (CLass)"
   ]
  },
  {
   "cell_type": "code",
   "execution_count": 56,
   "id": "67b511d3-1c9e-4263-8a7a-47d3ad5efe29",
   "metadata": {},
   "outputs": [
    {
     "data": {
      "text/plain": [
       "str"
      ]
     },
     "execution_count": 56,
     "metadata": {},
     "output_type": "execute_result"
    }
   ],
   "source": [
    "type (CLass)"
   ]
  },
  {
   "cell_type": "markdown",
   "id": "fa2ea557-54d5-4376-b80a-bc7ef77f4fbb",
   "metadata": {},
   "source": [
    "# LIST\n",
    "#### 1.List support Multiple data type.\n",
    "#### 2.List is Mutable\n",
    "#### 3.List support Repeatability"
   ]
  },
  {
   "cell_type": "code",
   "execution_count": 57,
   "id": "2bf9774c-03ae-4a2a-822c-9605bb2ba7fc",
   "metadata": {},
   "outputs": [],
   "source": [
    "L1=[10,15,.4,14+25j,\"HTML\",'ROBOTICS']"
   ]
  },
  {
   "cell_type": "code",
   "execution_count": 58,
   "id": "d1a8b3e9-8207-49d0-bfa9-fdaaaa6030ae",
   "metadata": {},
   "outputs": [
    {
     "name": "stdout",
     "output_type": "stream",
     "text": [
      "[10, 15, 0.4, (14+25j), 'HTML', 'ROBOTICS']\n"
     ]
    }
   ],
   "source": [
    "print(L1)"
   ]
  },
  {
   "cell_type": "code",
   "execution_count": 13,
   "id": "fadbf686-37ab-4f94-8c0f-83f50257b2e3",
   "metadata": {},
   "outputs": [],
   "source": [
    "basic=[1,2,3,'asma',5,]"
   ]
  },
  {
   "cell_type": "code",
   "execution_count": 14,
   "id": "33ca9418-e018-4d15-8bac-e5098d0cf062",
   "metadata": {},
   "outputs": [
    {
     "name": "stdout",
     "output_type": "stream",
     "text": [
      "[1, 2, 3, 'asma', 5]\n"
     ]
    }
   ],
   "source": [
    "print(basic)"
   ]
  },
  {
   "cell_type": "code",
   "execution_count": 15,
   "id": "cbe20754-7b1e-4ca9-a3cc-cfe12e7f1d59",
   "metadata": {},
   "outputs": [
    {
     "data": {
      "text/plain": [
       "list"
      ]
     },
     "execution_count": 15,
     "metadata": {},
     "output_type": "execute_result"
    }
   ],
   "source": [
    "type(basic)"
   ]
  },
  {
   "cell_type": "code",
   "execution_count": 16,
   "id": "e6b09595-f9d2-418c-8faa-035f89caef7a",
   "metadata": {},
   "outputs": [
    {
     "data": {
      "text/plain": [
       "5"
      ]
     },
     "execution_count": 16,
     "metadata": {},
     "output_type": "execute_result"
    }
   ],
   "source": [
    "basic[4]"
   ]
  },
  {
   "cell_type": "code",
   "execution_count": 17,
   "id": "9bba9567-6212-4973-b9a8-0e7ea2a47d20",
   "metadata": {},
   "outputs": [],
   "source": [
    "basic[3]='haritha'"
   ]
  },
  {
   "cell_type": "code",
   "execution_count": 18,
   "id": "2c1a3f96-cf07-4a22-9f1a-775fe71a5ae6",
   "metadata": {},
   "outputs": [
    {
     "name": "stdout",
     "output_type": "stream",
     "text": [
      "[1, 2, 3, 'haritha', 5]\n"
     ]
    }
   ],
   "source": [
    "print(basic)"
   ]
  },
  {
   "cell_type": "code",
   "execution_count": 19,
   "id": "e51301e8-6f0f-42fd-a61a-75c3432f13a2",
   "metadata": {},
   "outputs": [
    {
     "data": {
      "text/plain": [
       "list"
      ]
     },
     "execution_count": 19,
     "metadata": {},
     "output_type": "execute_result"
    }
   ],
   "source": [
    "type(basic)"
   ]
  },
  {
   "cell_type": "code",
   "execution_count": 20,
   "id": "af3b24de-3afe-47c7-b477-c55d114d6278",
   "metadata": {},
   "outputs": [
    {
     "data": {
      "text/plain": [
       "5"
      ]
     },
     "execution_count": 20,
     "metadata": {},
     "output_type": "execute_result"
    }
   ],
   "source": [
    "len(basic)"
   ]
  },
  {
   "cell_type": "code",
   "execution_count": 25,
   "id": "f26eecee-12f6-478e-8b93-1a3c16db3fd1",
   "metadata": {},
   "outputs": [
    {
     "name": "stdout",
     "output_type": "stream",
     "text": [
      "yes\n"
     ]
    }
   ],
   "source": [
    "if(True):\n",
    "    print(\"yes\")\n",
    "else:\n",
    "     print(\"no\")\n",
    "    "
   ]
  },
  {
   "cell_type": "code",
   "execution_count": 31,
   "id": "6a2f661f-9ffe-4a4a-b9f5-f67dd302d109",
   "metadata": {},
   "outputs": [
    {
     "data": {
      "text/plain": [
       "'salma'"
      ]
     },
     "execution_count": 31,
     "metadata": {},
     "output_type": "execute_result"
    }
   ],
   "source": [
    "Name[0:5]"
   ]
  },
  {
   "cell_type": "code",
   "execution_count": 32,
   "id": "64062485-2e96-40aa-91fe-0e1962ad3981",
   "metadata": {},
   "outputs": [],
   "source": [
    "basic=[1,2,3,'asma',5,]"
   ]
  },
  {
   "cell_type": "code",
   "execution_count": 33,
   "id": "3e186c9d-7ee6-4a65-8340-93a314e9a164",
   "metadata": {},
   "outputs": [
    {
     "data": {
      "text/plain": [
       "[3, 'asma']"
      ]
     },
     "execution_count": 33,
     "metadata": {},
     "output_type": "execute_result"
    }
   ],
   "source": [
    "basic[-3:-1]"
   ]
  },
  {
   "cell_type": "code",
   "execution_count": 34,
   "id": "26aff3b3-3c8d-43ad-adb4-9b216f972aaa",
   "metadata": {},
   "outputs": [
    {
     "data": {
      "text/plain": [
       "[1, 2, 3]"
      ]
     },
     "execution_count": 34,
     "metadata": {},
     "output_type": "execute_result"
    }
   ],
   "source": [
    "basic[0:3]"
   ]
  },
  {
   "cell_type": "code",
   "execution_count": 39,
   "id": "5514d978-ec38-4064-ab4e-49aea17a288b",
   "metadata": {},
   "outputs": [
    {
     "data": {
      "text/plain": [
       "[3, 'asma']"
      ]
     },
     "execution_count": 39,
     "metadata": {},
     "output_type": "execute_result"
    }
   ],
   "source": [
    "basic[-3:-1]"
   ]
  },
  {
   "cell_type": "code",
   "execution_count": 43,
   "id": "3ea8dc0a-37f6-4140-91be-74309371b9bf",
   "metadata": {},
   "outputs": [
    {
     "data": {
      "text/plain": [
       "[]"
      ]
     },
     "execution_count": 43,
     "metadata": {},
     "output_type": "execute_result"
    }
   ],
   "source": [
    "basic[-1:-3]"
   ]
  },
  {
   "cell_type": "code",
   "execution_count": 44,
   "id": "0309cf7c-e8bc-4865-993c-255ff4c9019a",
   "metadata": {},
   "outputs": [
    {
     "data": {
      "text/plain": [
       "[1, 3, 5]"
      ]
     },
     "execution_count": 44,
     "metadata": {},
     "output_type": "execute_result"
    }
   ],
   "source": [
    "basic[0::2]"
   ]
  },
  {
   "cell_type": "code",
   "execution_count": 45,
   "id": "1c4904c2-ae08-4f35-8c58-5e1d43c141b3",
   "metadata": {},
   "outputs": [
    {
     "data": {
      "text/plain": [
       "[1, 'asma']"
      ]
     },
     "execution_count": 45,
     "metadata": {},
     "output_type": "execute_result"
    }
   ],
   "source": [
    "basic[0::3]"
   ]
  },
  {
   "cell_type": "code",
   "execution_count": 46,
   "id": "e49ce6aa-f5de-4ab6-8410-b6e260d6979d",
   "metadata": {},
   "outputs": [
    {
     "data": {
      "text/plain": [
       "[1, 5]"
      ]
     },
     "execution_count": 46,
     "metadata": {},
     "output_type": "execute_result"
    }
   ],
   "source": [
    "basic[0::4]"
   ]
  },
  {
   "cell_type": "code",
   "execution_count": 47,
   "id": "c682fd0b-37a8-440a-8148-6a442e3b3225",
   "metadata": {},
   "outputs": [
    {
     "data": {
      "text/plain": [
       "[5, 3, 1]"
      ]
     },
     "execution_count": 47,
     "metadata": {},
     "output_type": "execute_result"
    }
   ],
   "source": [
    "basic[::-2]"
   ]
  },
  {
   "cell_type": "code",
   "execution_count": 52,
   "id": "926c6613-74ef-442a-9b76-566b327c5d96",
   "metadata": {},
   "outputs": [
    {
     "data": {
      "text/plain": [
       "[5, 'asma', 3, 2, 1]"
      ]
     },
     "execution_count": 52,
     "metadata": {},
     "output_type": "execute_result"
    }
   ],
   "source": [
    "basic[::-1]"
   ]
  },
  {
   "cell_type": "code",
   "execution_count": 53,
   "id": "bbf35f73-3a55-4eeb-ab06-2706b9643777",
   "metadata": {},
   "outputs": [
    {
     "name": "stdout",
     "output_type": "stream",
     "text": [
      "[1, 2, 3, 'asma', 5]\n"
     ]
    }
   ],
   "source": [
    "print(basic)"
   ]
  },
  {
   "cell_type": "code",
   "execution_count": null,
   "id": "95d539b8-ef35-4dc5-ad5c-03446fedd51e",
   "metadata": {},
   "outputs": [],
   "source": [
    "basic=[1,2,3,'asma',5,]"
   ]
  },
  {
   "cell_type": "code",
   "execution_count": 54,
   "id": "cd03feb3-085d-46a2-8bed-b23738f1d7cc",
   "metadata": {},
   "outputs": [
    {
     "data": {
      "text/plain": [
       "[1, 5]"
      ]
     },
     "execution_count": 54,
     "metadata": {},
     "output_type": "execute_result"
    }
   ],
   "source": [
    "basic[0::4]"
   ]
  },
  {
   "cell_type": "code",
   "execution_count": 55,
   "id": "c781cd2b-3577-4b08-89b0-fe99f30ea7f5",
   "metadata": {},
   "outputs": [
    {
     "data": {
      "text/plain": [
       "[1]"
      ]
     },
     "execution_count": 55,
     "metadata": {},
     "output_type": "execute_result"
    }
   ],
   "source": [
    "basic[0::-1]"
   ]
  },
  {
   "cell_type": "code",
   "execution_count": 56,
   "id": "68fee5aa-91b9-4cc9-aaa0-8ed66c6b75e3",
   "metadata": {},
   "outputs": [
    {
     "data": {
      "text/plain": [
       "[5, 'asma', 3, 2, 1]"
      ]
     },
     "execution_count": 56,
     "metadata": {},
     "output_type": "execute_result"
    }
   ],
   "source": [
    "basic[::-1]"
   ]
  },
  {
   "cell_type": "code",
   "execution_count": 57,
   "id": "b5a66bd1-426b-4257-838e-afd2ecfbb9d7",
   "metadata": {},
   "outputs": [
    {
     "data": {
      "text/plain": [
       "[1, 2, 3, 'asma', 5]"
      ]
     },
     "execution_count": 57,
     "metadata": {},
     "output_type": "execute_result"
    }
   ],
   "source": [
    "basic[0::]"
   ]
  },
  {
   "cell_type": "code",
   "execution_count": 63,
   "id": "607f9879-2c6f-48c8-877e-98d921e60bf6",
   "metadata": {},
   "outputs": [],
   "source": [
    "basic.append([16,24,27,25])"
   ]
  },
  {
   "cell_type": "code",
   "execution_count": 64,
   "id": "8f9c874a-0392-46bf-a8e0-a09a5cf39b2e",
   "metadata": {},
   "outputs": [
    {
     "data": {
      "text/plain": [
       "[1,\n",
       " 2,\n",
       " 3,\n",
       " 'asma',\n",
       " 5,\n",
       " [16, 24, 27, 25],\n",
       " [16, 24, 27, 25],\n",
       " [16, 24, 27, 25],\n",
       " [16, 24, 27, 25],\n",
       " [16, 24, 27, 25]]"
      ]
     },
     "execution_count": 64,
     "metadata": {},
     "output_type": "execute_result"
    }
   ],
   "source": [
    "basic"
   ]
  },
  {
   "cell_type": "code",
   "execution_count": 68,
   "id": "fc5b17d1-538e-4ee0-9fa1-ae84bcccc94a",
   "metadata": {},
   "outputs": [
    {
     "data": {
      "text/plain": [
       "3"
      ]
     },
     "execution_count": 68,
     "metadata": {},
     "output_type": "execute_result"
    }
   ],
   "source": [
    "basic.index('asma')"
   ]
  },
  {
   "cell_type": "code",
   "execution_count": 73,
   "id": "3d156cd2-75fb-4e7f-a931-d4b1e5cdf5fb",
   "metadata": {},
   "outputs": [],
   "source": [
    "basic.insert(9,'salma')"
   ]
  },
  {
   "cell_type": "code",
   "execution_count": 74,
   "id": "fe1b79e1-0761-4cbd-af1b-f805a7cf33e6",
   "metadata": {},
   "outputs": [
    {
     "data": {
      "text/plain": [
       "[1,\n",
       " 2,\n",
       " 3,\n",
       " 'asma',\n",
       " 5,\n",
       " [16, 24, 27, 25],\n",
       " [16, 24, 27, 25],\n",
       " [16, 24, 27, 25],\n",
       " [16, 24, 27, 25],\n",
       " 'salma',\n",
       " 'salma',\n",
       " [16, 24, 27, 25]]"
      ]
     },
     "execution_count": 74,
     "metadata": {},
     "output_type": "execute_result"
    }
   ],
   "source": [
    "basic"
   ]
  },
  {
   "cell_type": "code",
   "execution_count": 89,
   "id": "f640c1ec-2587-4f87-b8a6-584e76ff464f",
   "metadata": {},
   "outputs": [
    {
     "ename": "IndexError",
     "evalue": "pop from empty list",
     "output_type": "error",
     "traceback": [
      "\u001b[1;31m---------------------------------------------------------------------------\u001b[0m",
      "\u001b[1;31mIndexError\u001b[0m                                Traceback (most recent call last)",
      "Cell \u001b[1;32mIn[89], line 1\u001b[0m\n\u001b[1;32m----> 1\u001b[0m basic\u001b[38;5;241m.\u001b[39mpop()\n",
      "\u001b[1;31mIndexError\u001b[0m: pop from empty list"
     ]
    }
   ],
   "source": [
    "basic.pop()"
   ]
  },
  {
   "cell_type": "code",
   "execution_count": null,
   "id": "8f5100bc-5cdf-4349-a519-36a240c01bad",
   "metadata": {},
   "outputs": [],
   "source": [
    "('game',1,2,3,4,"
   ]
  },
  {
   "cell_type": "code",
   "execution_count": 1,
   "id": "7739b71a-daac-4ab8-ab3e-1c1e69f6a572",
   "metadata": {},
   "outputs": [],
   "source": [
    "L1=[10,15,.4,14+25j,\"HTML\",'ROBOTICS']"
   ]
  },
  {
   "cell_type": "code",
   "execution_count": 2,
   "id": "a0f88bf3-bd14-4712-8ed9-58b90ef76285",
   "metadata": {
    "scrolled": true
   },
   "outputs": [
    {
     "ename": "NameError",
     "evalue": "name 'name' is not defined",
     "output_type": "error",
     "traceback": [
      "\u001b[1;31m---------------------------------------------------------------------------\u001b[0m",
      "\u001b[1;31mNameError\u001b[0m                                 Traceback (most recent call last)",
      "Cell \u001b[1;32mIn[2], line 1\u001b[0m\n\u001b[1;32m----> 1\u001b[0m name\u001b[38;5;241m=\u001b[39m\u001b[38;5;28mtuple\u001b[39m(\u001b[43mname\u001b[49m)\n",
      "\u001b[1;31mNameError\u001b[0m: name 'name' is not defined"
     ]
    }
   ],
   "source": [
    "name=tuple(name)"
   ]
  },
  {
   "cell_type": "code",
   "execution_count": 3,
   "id": "2c1d75b7-e622-4e0b-972b-dc3b2654c74f",
   "metadata": {},
   "outputs": [],
   "source": [
    "Name=\"salma asma1647\""
   ]
  },
  {
   "cell_type": "code",
   "execution_count": 4,
   "id": "ab2c9a78-e170-4a00-8398-5e27c76527fc",
   "metadata": {},
   "outputs": [],
   "source": [
    "Name=tuple(Name)"
   ]
  },
  {
   "cell_type": "markdown",
   "id": "5f9a68d9-110c-4872-8c9f-9f53c43a3b9f",
   "metadata": {},
   "source": [
    "# sets"
   ]
  },
  {
   "cell_type": "raw",
   "id": "f7f6fe42-3bbf-4da1-af3e-75690d03c6e4",
   "metadata": {},
   "source": [
    "1.set is unorder and unindex\n",
    "2.set is mutable\n",
    "3.set do not allow duplicate values"
   ]
  },
  {
   "cell_type": "code",
   "execution_count": 9,
   "id": "81db054d-9146-41e4-a767-b5754f748b34",
   "metadata": {},
   "outputs": [],
   "source": [
    "name={1,2,3,4,5,6,\"asma\",\"salma\",7,8,9}"
   ]
  },
  {
   "cell_type": "code",
   "execution_count": 10,
   "id": "b53d4841-ce56-42aa-ab59-1ce649498507",
   "metadata": {},
   "outputs": [
    {
     "data": {
      "text/plain": [
       "{1, 2, 3, 4, 5, 6, 7, 8, 9, 'asma', 'salma'}"
      ]
     },
     "execution_count": 10,
     "metadata": {},
     "output_type": "execute_result"
    }
   ],
   "source": [
    "name"
   ]
  },
  {
   "cell_type": "code",
   "execution_count": 11,
   "id": "9e5e4bb7-999f-4222-891f-3b138a9e48f6",
   "metadata": {},
   "outputs": [
    {
     "data": {
      "text/plain": [
       "set"
      ]
     },
     "execution_count": 11,
     "metadata": {},
     "output_type": "execute_result"
    }
   ],
   "source": [
    "type (name)"
   ]
  },
  {
   "cell_type": "code",
   "execution_count": 12,
   "id": "de9bf6f0-aeb6-485d-bd04-47165dfbb862",
   "metadata": {},
   "outputs": [
    {
     "data": {
      "text/plain": [
       "11"
      ]
     },
     "execution_count": 12,
     "metadata": {},
     "output_type": "execute_result"
    }
   ],
   "source": [
    "len(name)"
   ]
  },
  {
   "cell_type": "code",
   "execution_count": 14,
   "id": "bc0ccb93-4983-473e-a564-fb9d4eeb9ba1",
   "metadata": {},
   "outputs": [
    {
     "data": {
      "text/plain": [
       "{1, 2, 3, 4, 5, 6, 7, 8, 9, 'aasif', 'asma', 'salma', 'shamira'}"
      ]
     },
     "execution_count": 14,
     "metadata": {},
     "output_type": "execute_result"
    }
   ],
   "source": [
    "name.add(\"shamira\")\n",
    "name.add(\"aasif\")\n",
    "name"
   ]
  },
  {
   "cell_type": "code",
   "execution_count": 21,
   "id": "2bc0c014-9512-4c57-9682-0398edbb353d",
   "metadata": {},
   "outputs": [],
   "source": [
    "name={1,2,3,4,5,6,\"asma\",\"salma\",7,8,9}"
   ]
  },
  {
   "cell_type": "code",
   "execution_count": 22,
   "id": "d0b00121-5df0-4938-b5f9-64d559dff104",
   "metadata": {},
   "outputs": [
    {
     "data": {
      "text/plain": [
       "{1, 2, 3, 4, 5, 6, 7, 8, 9, 'asma', 'salma'}"
      ]
     },
     "execution_count": 22,
     "metadata": {},
     "output_type": "execute_result"
    }
   ],
   "source": [
    "name"
   ]
  },
  {
   "cell_type": "code",
   "execution_count": 23,
   "id": "81e27bca-47b4-445e-b50e-e9ef8b6b8baf",
   "metadata": {},
   "outputs": [
    {
     "data": {
      "text/plain": [
       "set"
      ]
     },
     "execution_count": 23,
     "metadata": {},
     "output_type": "execute_result"
    }
   ],
   "source": [
    "type(name)"
   ]
  },
  {
   "cell_type": "code",
   "execution_count": 24,
   "id": "bcad4640-cf8b-4f13-8c88-9036e02cc6a6",
   "metadata": {},
   "outputs": [
    {
     "data": {
      "text/plain": [
       "11"
      ]
     },
     "execution_count": 24,
     "metadata": {},
     "output_type": "execute_result"
    }
   ],
   "source": [
    "len(name)"
   ]
  },
  {
   "cell_type": "code",
   "execution_count": 27,
   "id": "4f03e4b7-25cc-4db5-90e2-ed3504d7b05d",
   "metadata": {},
   "outputs": [
    {
     "data": {
      "text/plain": [
       "{1, 2, 3, 4, 5, 6, 7, 8, 9, 'akku', 'arif', 'asma', 'salma', 'shoith'}"
      ]
     },
     "execution_count": 27,
     "metadata": {},
     "output_type": "execute_result"
    }
   ],
   "source": [
    "name.update({\"shoith\",\"arif\",\"akku\"})\n",
    "name"
   ]
  },
  {
   "cell_type": "code",
   "execution_count": 31,
   "id": "7f2fc389-0990-4733-9545-2abde8f50d9e",
   "metadata": {},
   "outputs": [
    {
     "data": {
      "text/plain": [
       "{1,\n",
       " 2,\n",
       " 3,\n",
       " 4,\n",
       " 5,\n",
       " 6,\n",
       " 7,\n",
       " 8,\n",
       " 9,\n",
       " 'akku',\n",
       " 'arif',\n",
       " 'asma',\n",
       " 'salma',\n",
       " 'shamira',\n",
       " 'sharu',\n",
       " 'shoith'}"
      ]
     },
     "execution_count": 31,
     "metadata": {},
     "output_type": "execute_result"
    }
   ],
   "source": [
    "name.add(\"shamira\")\n",
    "name"
   ]
  },
  {
   "cell_type": "code",
   "execution_count": 38,
   "id": "a293f6e6-8e15-4459-b989-fd93d9547656",
   "metadata": {},
   "outputs": [
    {
     "data": {
      "text/plain": [
       "{1,\n",
       " 2,\n",
       " 3,\n",
       " 4,\n",
       " 5,\n",
       " 6,\n",
       " 7,\n",
       " 8,\n",
       " 9,\n",
       " 'akku',\n",
       " 'arif',\n",
       " 'salma',\n",
       " 'shamira',\n",
       " 'sharu',\n",
       " 'shoith'}"
      ]
     },
     "execution_count": 38,
     "metadata": {},
     "output_type": "execute_result"
    }
   ],
   "source": [
    "name.update({\"shoith\",\"arif\",\"akku\"})\n",
    "name"
   ]
  },
  {
   "cell_type": "code",
   "execution_count": 40,
   "id": "534ec199-ff90-49c3-82a1-6ce89ef2eb61",
   "metadata": {},
   "outputs": [
    {
     "data": {
      "text/plain": [
       "{1, 2, 3, 4, 5, 6, 7, 8, 9, 'akku', 'arif', 'salma', 'shamira', 'sharu'}"
      ]
     },
     "execution_count": 40,
     "metadata": {},
     "output_type": "execute_result"
    }
   ],
   "source": [
    "name.remove(\"shoith\")\n",
    "name"
   ]
  },
  {
   "cell_type": "code",
   "execution_count": 42,
   "id": "5e600373-8391-4d9b-81b2-b2cc4c6cdbe5",
   "metadata": {},
   "outputs": [
    {
     "data": {
      "text/plain": [
       "{1, 2, 3, 4, 5, 6, 7, 8, 9, 'akku', 'arif', 'salma', 'shamira', 'sharu'}"
      ]
     },
     "execution_count": 42,
     "metadata": {},
     "output_type": "execute_result"
    }
   ],
   "source": [
    "name.discard(\"shoith\")\n",
    "name"
   ]
  },
  {
   "cell_type": "markdown",
   "id": "6be9938c-3c77-4049-beb6-ab97314d219e",
   "metadata": {},
   "source": [
    "# Frozenset"
   ]
  },
  {
   "cell_type": "code",
   "execution_count": 45,
   "id": "861268a2-f6cd-4740-a1fa-e3850ff45b52",
   "metadata": {},
   "outputs": [],
   "source": [
    "name=frozenset({1,2,3,4,5,6,\"asma\",\"salma\",7,8,9})"
   ]
  },
  {
   "cell_type": "code",
   "execution_count": 46,
   "id": "ff33c8fc-fb26-4d02-a4bb-aa8a5729a361",
   "metadata": {},
   "outputs": [
    {
     "data": {
      "text/plain": [
       "frozenset({1, 2, 3, 4, 5, 6, 7, 8, 9, 'asma', 'salma'})"
      ]
     },
     "execution_count": 46,
     "metadata": {},
     "output_type": "execute_result"
    }
   ],
   "source": [
    "name"
   ]
  },
  {
   "cell_type": "markdown",
   "id": "8791650d-d0da-49cd-a11f-3f25d65faa03",
   "metadata": {},
   "source": [
    "# Dictionaries"
   ]
  },
  {
   "cell_type": "raw",
   "id": "c7181aaf-409f-4cd8-87b1-13f279bc0f8f",
   "metadata": {},
   "source": [
    "1.Keys are immutable\n",
    "2.value are mutable\n",
    "3.overall dict is a mutable structure"
   ]
  },
  {
   "cell_type": "code",
   "execution_count": 47,
   "id": "c0ab3eae-ceba-4c11-bc5f-7c2f0b5a3f7d",
   "metadata": {},
   "outputs": [],
   "source": [
    "bts={\"v\":\"jin\",2:\"jimin\",3:\"RM\",4:\"JK\"}"
   ]
  },
  {
   "cell_type": "code",
   "execution_count": 48,
   "id": "6a835acd-d190-4365-bd0f-cb8179df94a2",
   "metadata": {},
   "outputs": [
    {
     "data": {
      "text/plain": [
       "{'v': 'jin', 2: 'jimin', 3: 'RM', 4: 'JK'}"
      ]
     },
     "execution_count": 48,
     "metadata": {},
     "output_type": "execute_result"
    }
   ],
   "source": [
    "bts"
   ]
  },
  {
   "cell_type": "code",
   "execution_count": 49,
   "id": "7e0b457e-dcc5-4b44-9e2e-9b885d27ebd9",
   "metadata": {},
   "outputs": [
    {
     "data": {
      "text/plain": [
       "dict"
      ]
     },
     "execution_count": 49,
     "metadata": {},
     "output_type": "execute_result"
    }
   ],
   "source": [
    "type(bts)"
   ]
  },
  {
   "cell_type": "code",
   "execution_count": 62,
   "id": "b4d808f1-cf71-4835-9996-96867ecc708c",
   "metadata": {},
   "outputs": [],
   "source": [
    "course={\"dept\":\"ece\",2:\"thirdyear\",3:\"dsp\",4:\"ss\"}"
   ]
  },
  {
   "cell_type": "code",
   "execution_count": 63,
   "id": "1f40ff8a-9885-4d64-b7d6-bb346348a7fe",
   "metadata": {},
   "outputs": [
    {
     "data": {
      "text/plain": [
       "{'dept': 'ece', 2: 'thirdyear', 3: 'dsp', 4: 'ss'}"
      ]
     },
     "execution_count": 63,
     "metadata": {},
     "output_type": "execute_result"
    }
   ],
   "source": [
    "course"
   ]
  },
  {
   "cell_type": "code",
   "execution_count": 66,
   "id": "8ab91cc2-1a6f-45f2-b188-a90e4149296e",
   "metadata": {},
   "outputs": [],
   "source": [
    "course[5]=\"mpandmc\""
   ]
  },
  {
   "cell_type": "code",
   "execution_count": 67,
   "id": "2cf54a3b-6b5a-4a2e-9f17-3a73f57f3762",
   "metadata": {},
   "outputs": [
    {
     "data": {
      "text/plain": [
       "{'dept': 'ece', 2: 'thirdyear', 3: 'dsp', 4: 'ss', 5: 'mpandmc'}"
      ]
     },
     "execution_count": 67,
     "metadata": {},
     "output_type": "execute_result"
    }
   ],
   "source": [
    "course"
   ]
  },
  {
   "cell_type": "code",
   "execution_count": 69,
   "id": "42a69407-9959-4411-9c7e-8a1330b31352",
   "metadata": {},
   "outputs": [
    {
     "data": {
      "text/plain": [
       "dict"
      ]
     },
     "execution_count": 69,
     "metadata": {},
     "output_type": "execute_result"
    }
   ],
   "source": [
    "type(course)"
   ]
  },
  {
   "cell_type": "code",
   "execution_count": 71,
   "id": "b629a98f-cfef-468d-9dd0-9682fd0a2e47",
   "metadata": {},
   "outputs": [],
   "source": [
    "course={\"dept\":\"ece\",2:\"thirdyear\",3:\"dsp\",4:\"ss\"}"
   ]
  },
  {
   "cell_type": "code",
   "execution_count": 72,
   "id": "19c77a83-c157-4ed7-829a-0e2eb4c1af88",
   "metadata": {},
   "outputs": [
    {
     "data": {
      "text/plain": [
       "dict_values(['ece', 'thirdyear', 'dsp', 'ss'])"
      ]
     },
     "execution_count": 72,
     "metadata": {},
     "output_type": "execute_result"
    }
   ],
   "source": [
    "course.values()"
   ]
  },
  {
   "cell_type": "code",
   "execution_count": 73,
   "id": "f0c742e1-d469-4806-a7e4-cf6ebf7df87d",
   "metadata": {},
   "outputs": [
    {
     "data": {
      "text/plain": [
       "dict_keys(['dept', 2, 3, 4])"
      ]
     },
     "execution_count": 73,
     "metadata": {},
     "output_type": "execute_result"
    }
   ],
   "source": [
    "course.keys()"
   ]
  },
  {
   "cell_type": "code",
   "execution_count": 75,
   "id": "c4d7a6a8-2b78-4838-bb24-a9f71209691b",
   "metadata": {},
   "outputs": [
    {
     "data": {
      "text/plain": [
       "dict_items([('dept', 'ece'), (2, 'thirdyear'), (3, 'dsp'), (4, 'ss')])"
      ]
     },
     "execution_count": 75,
     "metadata": {},
     "output_type": "execute_result"
    }
   ],
   "source": [
    "course.items()"
   ]
  },
  {
   "cell_type": "code",
   "execution_count": 76,
   "id": "e6109f8c-668f-4a34-acf7-84bc549d6482",
   "metadata": {},
   "outputs": [],
   "source": [
    "course.clear()"
   ]
  },
  {
   "cell_type": "code",
   "execution_count": 85,
   "id": "ac08c609-7da2-41fb-a24d-76f11d748b8e",
   "metadata": {},
   "outputs": [],
   "source": [
    "course={\"dept\":\"ece\",2:\"thirdyear\",3:\"dsp\",4:\"ss\"}"
   ]
  },
  {
   "cell_type": "code",
   "execution_count": 95,
   "id": "80f1aef2-47da-4fd9-a039-811a5372c28a",
   "metadata": {},
   "outputs": [
    {
     "data": {
      "text/plain": [
       "{2: 'thirdyear', 3: 'dsp', 4: 'ss'}"
      ]
     },
     "execution_count": 95,
     "metadata": {},
     "output_type": "execute_result"
    }
   ],
   "source": [
    "course"
   ]
  },
  {
   "cell_type": "code",
   "execution_count": 103,
   "id": "7fda9d15-183f-4498-8bbc-07c1f421eadb",
   "metadata": {},
   "outputs": [
    {
     "ename": "AttributeError",
     "evalue": "'dict' object has no attribute 'add'",
     "output_type": "error",
     "traceback": [
      "\u001b[1;31m---------------------------------------------------------------------------\u001b[0m",
      "\u001b[1;31mAttributeError\u001b[0m                            Traceback (most recent call last)",
      "Cell \u001b[1;32mIn[103], line 1\u001b[0m\n\u001b[1;32m----> 1\u001b[0m \u001b[43mcourse\u001b[49m\u001b[38;5;241;43m.\u001b[39;49m\u001b[43madd\u001b[49m(\u001b[38;5;124m'\u001b[39m\u001b[38;5;124mdept\u001b[39m\u001b[38;5;124m'\u001b[39m)\n",
      "\u001b[1;31mAttributeError\u001b[0m: 'dict' object has no attribute 'add'"
     ]
    }
   ],
   "source": [
    "course.add('dept')"
   ]
  },
  {
   "cell_type": "code",
   "execution_count": 104,
   "id": "ecdec631-2da1-4875-af8b-dbde5e023d4e",
   "metadata": {},
   "outputs": [
    {
     "data": {
      "text/plain": [
       "{2: 'thirdyear', 3: 'dsp', 4: 'ss'}"
      ]
     },
     "execution_count": 104,
     "metadata": {},
     "output_type": "execute_result"
    }
   ],
   "source": [
    "course"
   ]
  },
  {
   "cell_type": "code",
   "execution_count": 102,
   "id": "3a155078-da91-4fbe-b640-7545daef08fb",
   "metadata": {},
   "outputs": [
    {
     "ename": "AttributeError",
     "evalue": "'dict' object has no attribute 'add'",
     "output_type": "error",
     "traceback": [
      "\u001b[1;31m---------------------------------------------------------------------------\u001b[0m",
      "\u001b[1;31mAttributeError\u001b[0m                            Traceback (most recent call last)",
      "Cell \u001b[1;32mIn[102], line 1\u001b[0m\n\u001b[1;32m----> 1\u001b[0m \u001b[43mcourse\u001b[49m\u001b[38;5;241;43m.\u001b[39;49m\u001b[43madd\u001b[49m(\u001b[38;5;124m'\u001b[39m\u001b[38;5;124mece\u001b[39m\u001b[38;5;124m'\u001b[39m)\n",
      "\u001b[1;31mAttributeError\u001b[0m: 'dict' object has no attribute 'add'"
     ]
    }
   ],
   "source": [
    "course.add('ece')"
   ]
  },
  {
   "cell_type": "code",
   "execution_count": 105,
   "id": "25fa9974-2c65-4dd7-a382-9aac06906e5d",
   "metadata": {},
   "outputs": [],
   "source": [
    "course={\"dept\":\"ece\",2:\"thirdyear\",3:\"dsp\",4:\"ss\"}"
   ]
  },
  {
   "cell_type": "code",
   "execution_count": 111,
   "id": "3879022a-d95d-4d55-9cd8-02df7c322069",
   "metadata": {},
   "outputs": [
    {
     "data": {
      "text/plain": [
       "dict"
      ]
     },
     "execution_count": 111,
     "metadata": {},
     "output_type": "execute_result"
    }
   ],
   "source": [
    "type(course)"
   ]
  },
  {
   "cell_type": "code",
   "execution_count": 112,
   "id": "c9d84dc8-3b17-45c1-8322-ba5bf57c81cb",
   "metadata": {},
   "outputs": [
    {
     "data": {
      "text/plain": [
       "dict_keys(['dept', 2, 3, 4])"
      ]
     },
     "execution_count": 112,
     "metadata": {},
     "output_type": "execute_result"
    }
   ],
   "source": [
    "course.keys()"
   ]
  },
  {
   "cell_type": "code",
   "execution_count": 115,
   "id": "3bc8c9c7-46cc-4871-a272-203c4c879970",
   "metadata": {},
   "outputs": [
    {
     "data": {
      "text/plain": [
       "dict_values(['ece', 'thirdyear', 'dsp', 'ss'])"
      ]
     },
     "execution_count": 115,
     "metadata": {},
     "output_type": "execute_result"
    }
   ],
   "source": [
    "course.values()"
   ]
  },
  {
   "cell_type": "code",
   "execution_count": 119,
   "id": "1b24f051-06d6-422f-b9ce-2079ad2f9e8c",
   "metadata": {},
   "outputs": [
    {
     "data": {
      "text/plain": [
       "'ece'"
      ]
     },
     "execution_count": 119,
     "metadata": {},
     "output_type": "execute_result"
    }
   ],
   "source": [
    "course.pop('dept')"
   ]
  },
  {
   "cell_type": "code",
   "execution_count": 122,
   "id": "6e0ce824-1321-4829-be06-174399e7c4ad",
   "metadata": {},
   "outputs": [],
   "source": [
    "sub=course.copy()"
   ]
  },
  {
   "cell_type": "code",
   "execution_count": 123,
   "id": "9f4d7355-d7fb-43e6-8fbe-0eb738aa819d",
   "metadata": {},
   "outputs": [
    {
     "data": {
      "text/plain": [
       "{2: 'thirdyear', 3: 'dsp', 4: 'ss'}"
      ]
     },
     "execution_count": 123,
     "metadata": {},
     "output_type": "execute_result"
    }
   ],
   "source": [
    "sub"
   ]
  },
  {
   "cell_type": "code",
   "execution_count": 124,
   "id": "d7c27220-d94d-4cb7-a36a-eb733a09b2d1",
   "metadata": {},
   "outputs": [
    {
     "data": {
      "text/plain": [
       "dict"
      ]
     },
     "execution_count": 124,
     "metadata": {},
     "output_type": "execute_result"
    }
   ],
   "source": [
    "type(sub)"
   ]
  },
  {
   "cell_type": "markdown",
   "id": "cd9c5b4f-03b6-471c-90bc-7878c9210642",
   "metadata": {},
   "source": [
    "# Boolean"
   ]
  },
  {
   "cell_type": "raw",
   "id": "2f659f59-3bd1-48f7-bbe9-81e65660e51d",
   "metadata": {},
   "source": [
    ">-greater than\n",
    "<-lesser than\n",
    ">>-greater than or equal\n",
    "<=-less than or equal\n",
    "==-equal to equal\n",
    "!=-not equal"
   ]
  },
  {
   "cell_type": "code",
   "execution_count": 125,
   "id": "7acabe48-3c43-4ac1-8745-67f089242c8e",
   "metadata": {},
   "outputs": [
    {
     "data": {
      "text/plain": [
       "False"
      ]
     },
     "execution_count": 125,
     "metadata": {},
     "output_type": "execute_result"
    }
   ],
   "source": [
    "10<9"
   ]
  },
  {
   "cell_type": "code",
   "execution_count": 126,
   "id": "e1a6021e-0897-4ac0-93d0-4fccb18338c0",
   "metadata": {},
   "outputs": [
    {
     "data": {
      "text/plain": [
       "True"
      ]
     },
     "execution_count": 126,
     "metadata": {},
     "output_type": "execute_result"
    }
   ],
   "source": [
    "10>9"
   ]
  },
  {
   "cell_type": "code",
   "execution_count": 127,
   "id": "a2b5a4d9-426f-4428-94b2-0b9d4e0119d3",
   "metadata": {},
   "outputs": [
    {
     "data": {
      "text/plain": [
       "False"
      ]
     },
     "execution_count": 127,
     "metadata": {},
     "output_type": "execute_result"
    }
   ],
   "source": [
    "10<=9"
   ]
  },
  {
   "cell_type": "code",
   "execution_count": 128,
   "id": "258ae4ee-6042-4d8e-9b6f-b4f2aae1f244",
   "metadata": {},
   "outputs": [
    {
     "data": {
      "text/plain": [
       "True"
      ]
     },
     "execution_count": 128,
     "metadata": {},
     "output_type": "execute_result"
    }
   ],
   "source": [
    "10>=9"
   ]
  },
  {
   "cell_type": "code",
   "execution_count": 129,
   "id": "a9fdf9b6-e10f-40de-8abf-8c6091ce7f54",
   "metadata": {},
   "outputs": [
    {
     "data": {
      "text/plain": [
       "True"
      ]
     },
     "execution_count": 129,
     "metadata": {},
     "output_type": "execute_result"
    }
   ],
   "source": [
    "5==5"
   ]
  },
  {
   "cell_type": "code",
   "execution_count": 130,
   "id": "7c0c297c-182b-4402-aa84-a91af799afc9",
   "metadata": {},
   "outputs": [],
   "source": [
    "a=25\n",
    "b=20"
   ]
  },
  {
   "cell_type": "code",
   "execution_count": 131,
   "id": "755859b1-b418-48e7-bf2a-81b985a1ef53",
   "metadata": {},
   "outputs": [
    {
     "data": {
      "text/plain": [
       "True"
      ]
     },
     "execution_count": 131,
     "metadata": {},
     "output_type": "execute_result"
    }
   ],
   "source": [
    "a!=b"
   ]
  },
  {
   "cell_type": "code",
   "execution_count": 144,
   "id": "3701ed48-3702-4109-bbde-45936c600a37",
   "metadata": {},
   "outputs": [
    {
     "data": {
      "text/plain": [
       "False"
      ]
     },
     "execution_count": 144,
     "metadata": {},
     "output_type": "execute_result"
    }
   ],
   "source": [
    "a==20\n"
   ]
  },
  {
   "cell_type": "code",
   "execution_count": 147,
   "id": "dc508fe3-c275-4c5e-a036-202b5bbb8937",
   "metadata": {},
   "outputs": [
    {
     "data": {
      "text/plain": [
       "True"
      ]
     },
     "execution_count": 147,
     "metadata": {},
     "output_type": "execute_result"
    }
   ],
   "source": [
    "a==25"
   ]
  },
  {
   "cell_type": "code",
   "execution_count": null,
   "id": "6934584d-e18d-4fed-8614-4349393ba2b9",
   "metadata": {},
   "outputs": [],
   "source": []
  },
  {
   "cell_type": "code",
   "execution_count": null,
   "id": "37fc0e6c-bfe0-4166-8c35-b566a6b0b18a",
   "metadata": {},
   "outputs": [],
   "source": []
  }
 ],
 "metadata": {
  "kernelspec": {
   "display_name": "Python 3 (ipykernel)",
   "language": "python",
   "name": "python3"
  },
  "language_info": {
   "codemirror_mode": {
    "name": "ipython",
    "version": 3
   },
   "file_extension": ".py",
   "mimetype": "text/x-python",
   "name": "python",
   "nbconvert_exporter": "python",
   "pygments_lexer": "ipython3",
   "version": "3.9.19"
  }
 },
 "nbformat": 4,
 "nbformat_minor": 5
}
